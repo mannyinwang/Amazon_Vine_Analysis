{
 "cells": [
  {
   "cell_type": "code",
   "execution_count": 1,
   "metadata": {
    "collapsed": true
   },
   "outputs": [],
   "source": [
    "# Import the libraries\n",
    "import os\n",
    "import pandas as pd\n"
   ]
  },
  {
   "cell_type": "code",
   "execution_count": 2,
   "outputs": [
    {
     "data": {
      "text/plain": "        review_id  star_rating  helpful_votes  total_votes vine  \\\n0  R1WBPB8MDCCN8F          5.0            0.0          0.0    N   \n1  R32M0YEWV77XG8          5.0            1.0          1.0    N   \n2   RR8V7WR27NXJ5          1.0            0.0          0.0    N   \n3  R1MHO5V9Z932AY          5.0            0.0          0.0    N   \n4  R16PD71086BD2V          5.0            0.0          1.0    N   \n\n  verified_purchase  \n0                 N  \n1                 Y  \n2                 Y  \n3                 Y  \n4                 N  ",
      "text/html": "<div>\n<style scoped>\n    .dataframe tbody tr th:only-of-type {\n        vertical-align: middle;\n    }\n\n    .dataframe tbody tr th {\n        vertical-align: top;\n    }\n\n    .dataframe thead th {\n        text-align: right;\n    }\n</style>\n<table border=\"1\" class=\"dataframe\">\n  <thead>\n    <tr style=\"text-align: right;\">\n      <th></th>\n      <th>review_id</th>\n      <th>star_rating</th>\n      <th>helpful_votes</th>\n      <th>total_votes</th>\n      <th>vine</th>\n      <th>verified_purchase</th>\n    </tr>\n  </thead>\n  <tbody>\n    <tr>\n      <th>0</th>\n      <td>R1WBPB8MDCCN8F</td>\n      <td>5.0</td>\n      <td>0.0</td>\n      <td>0.0</td>\n      <td>N</td>\n      <td>N</td>\n    </tr>\n    <tr>\n      <th>1</th>\n      <td>R32M0YEWV77XG8</td>\n      <td>5.0</td>\n      <td>1.0</td>\n      <td>1.0</td>\n      <td>N</td>\n      <td>Y</td>\n    </tr>\n    <tr>\n      <th>2</th>\n      <td>RR8V7WR27NXJ5</td>\n      <td>1.0</td>\n      <td>0.0</td>\n      <td>0.0</td>\n      <td>N</td>\n      <td>Y</td>\n    </tr>\n    <tr>\n      <th>3</th>\n      <td>R1MHO5V9Z932AY</td>\n      <td>5.0</td>\n      <td>0.0</td>\n      <td>0.0</td>\n      <td>N</td>\n      <td>Y</td>\n    </tr>\n    <tr>\n      <th>4</th>\n      <td>R16PD71086BD2V</td>\n      <td>5.0</td>\n      <td>0.0</td>\n      <td>1.0</td>\n      <td>N</td>\n      <td>N</td>\n    </tr>\n  </tbody>\n</table>\n</div>"
     },
     "execution_count": 2,
     "metadata": {},
     "output_type": "execute_result"
    }
   ],
   "source": [
    "# Read in the dataset\n",
    "file = os.path.join('vine.csv')\n",
    "\n",
    "# Create the Vine DataFrame\n",
    "vine = pd.read_csv(file)\n",
    "\n",
    "# View the vine dataframe\n",
    "vine.head()"
   ],
   "metadata": {
    "collapsed": false,
    "pycharm": {
     "name": "#%%\n"
    }
   }
  },
  {
   "cell_type": "code",
   "execution_count": 3,
   "outputs": [
    {
     "data": {
      "text/plain": "           review_id  star_rating  helpful_votes  total_votes vine  \\\n326   R1B4753QMTD8ON          5.0           32.0         32.0    N   \n662   R28BVHOEL6GCHZ          5.0           21.0         21.0    N   \n1055  R27IB4BRKO71I0          2.0           16.0         20.0    N   \n1225   RJ86OW12Y4NRL          5.0          124.0        128.0    N   \n1448  R3KRABOWCH6ZE4          1.0           48.0         65.0    N   \n\n     verified_purchase  \n326                  N  \n662                  Y  \n1055                 Y  \n1225                 Y  \n1448                 Y  ",
      "text/html": "<div>\n<style scoped>\n    .dataframe tbody tr th:only-of-type {\n        vertical-align: middle;\n    }\n\n    .dataframe tbody tr th {\n        vertical-align: top;\n    }\n\n    .dataframe thead th {\n        text-align: right;\n    }\n</style>\n<table border=\"1\" class=\"dataframe\">\n  <thead>\n    <tr style=\"text-align: right;\">\n      <th></th>\n      <th>review_id</th>\n      <th>star_rating</th>\n      <th>helpful_votes</th>\n      <th>total_votes</th>\n      <th>vine</th>\n      <th>verified_purchase</th>\n    </tr>\n  </thead>\n  <tbody>\n    <tr>\n      <th>326</th>\n      <td>R1B4753QMTD8ON</td>\n      <td>5.0</td>\n      <td>32.0</td>\n      <td>32.0</td>\n      <td>N</td>\n      <td>N</td>\n    </tr>\n    <tr>\n      <th>662</th>\n      <td>R28BVHOEL6GCHZ</td>\n      <td>5.0</td>\n      <td>21.0</td>\n      <td>21.0</td>\n      <td>N</td>\n      <td>Y</td>\n    </tr>\n    <tr>\n      <th>1055</th>\n      <td>R27IB4BRKO71I0</td>\n      <td>2.0</td>\n      <td>16.0</td>\n      <td>20.0</td>\n      <td>N</td>\n      <td>Y</td>\n    </tr>\n    <tr>\n      <th>1225</th>\n      <td>RJ86OW12Y4NRL</td>\n      <td>5.0</td>\n      <td>124.0</td>\n      <td>128.0</td>\n      <td>N</td>\n      <td>Y</td>\n    </tr>\n    <tr>\n      <th>1448</th>\n      <td>R3KRABOWCH6ZE4</td>\n      <td>1.0</td>\n      <td>48.0</td>\n      <td>65.0</td>\n      <td>N</td>\n      <td>Y</td>\n    </tr>\n  </tbody>\n</table>\n</div>"
     },
     "execution_count": 3,
     "metadata": {},
     "output_type": "execute_result"
    }
   ],
   "source": [
    "# Getting rows of total vote counts greater than 20\n",
    "clean_df = vine[vine['total_votes'] >= 20]\n",
    "clean_df.head()"
   ],
   "metadata": {
    "collapsed": false,
    "pycharm": {
     "name": "#%%\n"
    }
   }
  },
  {
   "cell_type": "code",
   "execution_count": 4,
   "outputs": [
    {
     "name": "stderr",
     "output_type": "stream",
     "text": [
      "c:\\users\\manny\\documents\\manny data analytics bootcamp\\manny berkeley class\\nlp\\nlp test\\nlpenv\\lib\\site-packages\\ipykernel_launcher.py:2: SettingWithCopyWarning: \n",
      "A value is trying to be set on a copy of a slice from a DataFrame.\n",
      "Try using .loc[row_indexer,col_indexer] = value instead\n",
      "\n",
      "See the caveats in the documentation: https://pandas.pydata.org/pandas-docs/stable/user_guide/indexing.html#returning-a-view-versus-a-copy\n",
      "  \n"
     ]
    }
   ],
   "source": [
    "# Creating a column to calculate the percentage of helpful votes to total votes\n",
    "clean_df['percentage_vote'] = (clean_df['helpful_votes'] / clean_df['total_votes'])"
   ],
   "metadata": {
    "collapsed": false,
    "pycharm": {
     "name": "#%%\n"
    }
   }
  },
  {
   "cell_type": "code",
   "execution_count": 5,
   "outputs": [
    {
     "data": {
      "text/plain": "           review_id  star_rating  helpful_votes  total_votes vine  \\\n326   R1B4753QMTD8ON          5.0           32.0         32.0    N   \n662   R28BVHOEL6GCHZ          5.0           21.0         21.0    N   \n1055  R27IB4BRKO71I0          2.0           16.0         20.0    N   \n1225   RJ86OW12Y4NRL          5.0          124.0        128.0    N   \n1448  R3KRABOWCH6ZE4          1.0           48.0         65.0    N   \n\n     verified_purchase  percentage_vote  \n326                  N         1.000000  \n662                  Y         1.000000  \n1055                 Y         0.800000  \n1225                 Y         0.968750  \n1448                 Y         0.738462  ",
      "text/html": "<div>\n<style scoped>\n    .dataframe tbody tr th:only-of-type {\n        vertical-align: middle;\n    }\n\n    .dataframe tbody tr th {\n        vertical-align: top;\n    }\n\n    .dataframe thead th {\n        text-align: right;\n    }\n</style>\n<table border=\"1\" class=\"dataframe\">\n  <thead>\n    <tr style=\"text-align: right;\">\n      <th></th>\n      <th>review_id</th>\n      <th>star_rating</th>\n      <th>helpful_votes</th>\n      <th>total_votes</th>\n      <th>vine</th>\n      <th>verified_purchase</th>\n      <th>percentage_vote</th>\n    </tr>\n  </thead>\n  <tbody>\n    <tr>\n      <th>326</th>\n      <td>R1B4753QMTD8ON</td>\n      <td>5.0</td>\n      <td>32.0</td>\n      <td>32.0</td>\n      <td>N</td>\n      <td>N</td>\n      <td>1.000000</td>\n    </tr>\n    <tr>\n      <th>662</th>\n      <td>R28BVHOEL6GCHZ</td>\n      <td>5.0</td>\n      <td>21.0</td>\n      <td>21.0</td>\n      <td>N</td>\n      <td>Y</td>\n      <td>1.000000</td>\n    </tr>\n    <tr>\n      <th>1055</th>\n      <td>R27IB4BRKO71I0</td>\n      <td>2.0</td>\n      <td>16.0</td>\n      <td>20.0</td>\n      <td>N</td>\n      <td>Y</td>\n      <td>0.800000</td>\n    </tr>\n    <tr>\n      <th>1225</th>\n      <td>RJ86OW12Y4NRL</td>\n      <td>5.0</td>\n      <td>124.0</td>\n      <td>128.0</td>\n      <td>N</td>\n      <td>Y</td>\n      <td>0.968750</td>\n    </tr>\n    <tr>\n      <th>1448</th>\n      <td>R3KRABOWCH6ZE4</td>\n      <td>1.0</td>\n      <td>48.0</td>\n      <td>65.0</td>\n      <td>N</td>\n      <td>Y</td>\n      <td>0.738462</td>\n    </tr>\n  </tbody>\n</table>\n</div>"
     },
     "execution_count": 5,
     "metadata": {},
     "output_type": "execute_result"
    }
   ],
   "source": [
    "clean_df.head()"
   ],
   "metadata": {
    "collapsed": false,
    "pycharm": {
     "name": "#%%\n"
    }
   }
  },
  {
   "cell_type": "code",
   "execution_count": 6,
   "outputs": [
    {
     "name": "stdout",
     "output_type": "stream",
     "text": [
      "              review_id  star_rating  helpful_votes  total_votes vine  \\\n",
      "326      R1B4753QMTD8ON          5.0           32.0         32.0    N   \n",
      "662      R28BVHOEL6GCHZ          5.0           21.0         21.0    N   \n",
      "1055     R27IB4BRKO71I0          2.0           16.0         20.0    N   \n",
      "1225      RJ86OW12Y4NRL          5.0          124.0        128.0    N   \n",
      "1448     R3KRABOWCH6ZE4          1.0           48.0         65.0    N   \n",
      "...                 ...          ...            ...          ...  ...   \n",
      "4850347  R1KGFSPKL3YCGK          4.0           25.0         26.0    N   \n",
      "4850349  R15AZWCW5ZSFSN          5.0          157.0        160.0    N   \n",
      "4850352  R1ZWVHA89AE49B          5.0           32.0         33.0    N   \n",
      "4850353  R115HJRM6FUVIC          5.0           27.0         27.0    N   \n",
      "4850356  R34TPFL5ZYSV46          3.0           21.0         29.0    N   \n",
      "\n",
      "        verified_purchase  percentage_vote  \n",
      "326                     N         1.000000  \n",
      "662                     Y         1.000000  \n",
      "1055                    Y         0.800000  \n",
      "1225                    Y         0.968750  \n",
      "1448                    Y         0.738462  \n",
      "...                   ...              ...  \n",
      "4850347                 N         0.961538  \n",
      "4850349                 Y         0.981250  \n",
      "4850352                 N         0.969697  \n",
      "4850353                 N         1.000000  \n",
      "4850356                 N         0.724138  \n",
      "\n",
      "[61948 rows x 7 columns]\n"
     ]
    }
   ],
   "source": [
    "clean = clean_df.loc[clean_df['percentage_vote'] >= 0.5,]\n",
    "print(clean)"
   ],
   "metadata": {
    "collapsed": false,
    "pycharm": {
     "name": "#%%\n"
    }
   }
  },
  {
   "cell_type": "code",
   "execution_count": 7,
   "outputs": [],
   "source": [
    "# Creating DataFrames for paid and unpaid vine programs\n",
    "vine_program = clean.loc[clean['vine'] == 'Y']\n",
    "non_vine_program = clean.loc[clean['vine'] == 'N']"
   ],
   "metadata": {
    "collapsed": false,
    "pycharm": {
     "name": "#%%\n"
    }
   }
  },
  {
   "cell_type": "code",
   "execution_count": 8,
   "outputs": [
    {
     "data": {
      "text/plain": "              review_id  star_rating  helpful_votes  total_votes vine  \\\n5506     R32OMS1LSDRCOB          4.0           27.0         31.0    Y   \n24578    R2IPKK4I0XRCFR          4.0           16.0         21.0    Y   \n58364     RXYYJ8SGI9IX6          5.0           36.0         41.0    Y   \n63194    R1SAUBFC7T6JHC          5.0           73.0         75.0    Y   \n177724   R329HVJKKHWSG3          5.0           59.0         59.0    Y   \n...                 ...          ...            ...          ...  ...   \n4717565  R1WG2F3DZFE301          5.0           51.0         81.0    Y   \n4719313  R3VB53V1VDWPQ2          4.0          104.0        132.0    Y   \n4754150   RCKH2IYVH9PCG          4.0           21.0         21.0    Y   \n4770385  R1OR7JY4MQP6I7          5.0          181.0        188.0    Y   \n4770596  R34IO2BR3JWIIZ          4.0           17.0         20.0    Y   \n\n        verified_purchase  percentage_vote  \n5506                    N         0.870968  \n24578                   N         0.761905  \n58364                   N         0.878049  \n63194                   N         0.973333  \n177724                  N         1.000000  \n...                   ...              ...  \n4717565                 N         0.629630  \n4719313                 N         0.787879  \n4754150                 N         1.000000  \n4770385                 N         0.962766  \n4770596                 N         0.850000  \n\n[334 rows x 7 columns]",
      "text/html": "<div>\n<style scoped>\n    .dataframe tbody tr th:only-of-type {\n        vertical-align: middle;\n    }\n\n    .dataframe tbody tr th {\n        vertical-align: top;\n    }\n\n    .dataframe thead th {\n        text-align: right;\n    }\n</style>\n<table border=\"1\" class=\"dataframe\">\n  <thead>\n    <tr style=\"text-align: right;\">\n      <th></th>\n      <th>review_id</th>\n      <th>star_rating</th>\n      <th>helpful_votes</th>\n      <th>total_votes</th>\n      <th>vine</th>\n      <th>verified_purchase</th>\n      <th>percentage_vote</th>\n    </tr>\n  </thead>\n  <tbody>\n    <tr>\n      <th>5506</th>\n      <td>R32OMS1LSDRCOB</td>\n      <td>4.0</td>\n      <td>27.0</td>\n      <td>31.0</td>\n      <td>Y</td>\n      <td>N</td>\n      <td>0.870968</td>\n    </tr>\n    <tr>\n      <th>24578</th>\n      <td>R2IPKK4I0XRCFR</td>\n      <td>4.0</td>\n      <td>16.0</td>\n      <td>21.0</td>\n      <td>Y</td>\n      <td>N</td>\n      <td>0.761905</td>\n    </tr>\n    <tr>\n      <th>58364</th>\n      <td>RXYYJ8SGI9IX6</td>\n      <td>5.0</td>\n      <td>36.0</td>\n      <td>41.0</td>\n      <td>Y</td>\n      <td>N</td>\n      <td>0.878049</td>\n    </tr>\n    <tr>\n      <th>63194</th>\n      <td>R1SAUBFC7T6JHC</td>\n      <td>5.0</td>\n      <td>73.0</td>\n      <td>75.0</td>\n      <td>Y</td>\n      <td>N</td>\n      <td>0.973333</td>\n    </tr>\n    <tr>\n      <th>177724</th>\n      <td>R329HVJKKHWSG3</td>\n      <td>5.0</td>\n      <td>59.0</td>\n      <td>59.0</td>\n      <td>Y</td>\n      <td>N</td>\n      <td>1.000000</td>\n    </tr>\n    <tr>\n      <th>...</th>\n      <td>...</td>\n      <td>...</td>\n      <td>...</td>\n      <td>...</td>\n      <td>...</td>\n      <td>...</td>\n      <td>...</td>\n    </tr>\n    <tr>\n      <th>4717565</th>\n      <td>R1WG2F3DZFE301</td>\n      <td>5.0</td>\n      <td>51.0</td>\n      <td>81.0</td>\n      <td>Y</td>\n      <td>N</td>\n      <td>0.629630</td>\n    </tr>\n    <tr>\n      <th>4719313</th>\n      <td>R3VB53V1VDWPQ2</td>\n      <td>4.0</td>\n      <td>104.0</td>\n      <td>132.0</td>\n      <td>Y</td>\n      <td>N</td>\n      <td>0.787879</td>\n    </tr>\n    <tr>\n      <th>4754150</th>\n      <td>RCKH2IYVH9PCG</td>\n      <td>4.0</td>\n      <td>21.0</td>\n      <td>21.0</td>\n      <td>Y</td>\n      <td>N</td>\n      <td>1.000000</td>\n    </tr>\n    <tr>\n      <th>4770385</th>\n      <td>R1OR7JY4MQP6I7</td>\n      <td>5.0</td>\n      <td>181.0</td>\n      <td>188.0</td>\n      <td>Y</td>\n      <td>N</td>\n      <td>0.962766</td>\n    </tr>\n    <tr>\n      <th>4770596</th>\n      <td>R34IO2BR3JWIIZ</td>\n      <td>4.0</td>\n      <td>17.0</td>\n      <td>20.0</td>\n      <td>Y</td>\n      <td>N</td>\n      <td>0.850000</td>\n    </tr>\n  </tbody>\n</table>\n<p>334 rows × 7 columns</p>\n</div>"
     },
     "execution_count": 8,
     "metadata": {},
     "output_type": "execute_result"
    }
   ],
   "source": [
    "vine_program"
   ],
   "metadata": {
    "collapsed": false,
    "pycharm": {
     "name": "#%%\n"
    }
   }
  },
  {
   "cell_type": "code",
   "execution_count": 9,
   "outputs": [
    {
     "data": {
      "text/plain": "              review_id  star_rating  helpful_votes  total_votes vine  \\\n326      R1B4753QMTD8ON          5.0           32.0         32.0    N   \n662      R28BVHOEL6GCHZ          5.0           21.0         21.0    N   \n1055     R27IB4BRKO71I0          2.0           16.0         20.0    N   \n1225      RJ86OW12Y4NRL          5.0          124.0        128.0    N   \n1448     R3KRABOWCH6ZE4          1.0           48.0         65.0    N   \n...                 ...          ...            ...          ...  ...   \n4850347  R1KGFSPKL3YCGK          4.0           25.0         26.0    N   \n4850349  R15AZWCW5ZSFSN          5.0          157.0        160.0    N   \n4850352  R1ZWVHA89AE49B          5.0           32.0         33.0    N   \n4850353  R115HJRM6FUVIC          5.0           27.0         27.0    N   \n4850356  R34TPFL5ZYSV46          3.0           21.0         29.0    N   \n\n        verified_purchase  percentage_vote  \n326                     N         1.000000  \n662                     Y         1.000000  \n1055                    Y         0.800000  \n1225                    Y         0.968750  \n1448                    Y         0.738462  \n...                   ...              ...  \n4850347                 N         0.961538  \n4850349                 Y         0.981250  \n4850352                 N         0.969697  \n4850353                 N         1.000000  \n4850356                 N         0.724138  \n\n[61614 rows x 7 columns]",
      "text/html": "<div>\n<style scoped>\n    .dataframe tbody tr th:only-of-type {\n        vertical-align: middle;\n    }\n\n    .dataframe tbody tr th {\n        vertical-align: top;\n    }\n\n    .dataframe thead th {\n        text-align: right;\n    }\n</style>\n<table border=\"1\" class=\"dataframe\">\n  <thead>\n    <tr style=\"text-align: right;\">\n      <th></th>\n      <th>review_id</th>\n      <th>star_rating</th>\n      <th>helpful_votes</th>\n      <th>total_votes</th>\n      <th>vine</th>\n      <th>verified_purchase</th>\n      <th>percentage_vote</th>\n    </tr>\n  </thead>\n  <tbody>\n    <tr>\n      <th>326</th>\n      <td>R1B4753QMTD8ON</td>\n      <td>5.0</td>\n      <td>32.0</td>\n      <td>32.0</td>\n      <td>N</td>\n      <td>N</td>\n      <td>1.000000</td>\n    </tr>\n    <tr>\n      <th>662</th>\n      <td>R28BVHOEL6GCHZ</td>\n      <td>5.0</td>\n      <td>21.0</td>\n      <td>21.0</td>\n      <td>N</td>\n      <td>Y</td>\n      <td>1.000000</td>\n    </tr>\n    <tr>\n      <th>1055</th>\n      <td>R27IB4BRKO71I0</td>\n      <td>2.0</td>\n      <td>16.0</td>\n      <td>20.0</td>\n      <td>N</td>\n      <td>Y</td>\n      <td>0.800000</td>\n    </tr>\n    <tr>\n      <th>1225</th>\n      <td>RJ86OW12Y4NRL</td>\n      <td>5.0</td>\n      <td>124.0</td>\n      <td>128.0</td>\n      <td>N</td>\n      <td>Y</td>\n      <td>0.968750</td>\n    </tr>\n    <tr>\n      <th>1448</th>\n      <td>R3KRABOWCH6ZE4</td>\n      <td>1.0</td>\n      <td>48.0</td>\n      <td>65.0</td>\n      <td>N</td>\n      <td>Y</td>\n      <td>0.738462</td>\n    </tr>\n    <tr>\n      <th>...</th>\n      <td>...</td>\n      <td>...</td>\n      <td>...</td>\n      <td>...</td>\n      <td>...</td>\n      <td>...</td>\n      <td>...</td>\n    </tr>\n    <tr>\n      <th>4850347</th>\n      <td>R1KGFSPKL3YCGK</td>\n      <td>4.0</td>\n      <td>25.0</td>\n      <td>26.0</td>\n      <td>N</td>\n      <td>N</td>\n      <td>0.961538</td>\n    </tr>\n    <tr>\n      <th>4850349</th>\n      <td>R15AZWCW5ZSFSN</td>\n      <td>5.0</td>\n      <td>157.0</td>\n      <td>160.0</td>\n      <td>N</td>\n      <td>Y</td>\n      <td>0.981250</td>\n    </tr>\n    <tr>\n      <th>4850352</th>\n      <td>R1ZWVHA89AE49B</td>\n      <td>5.0</td>\n      <td>32.0</td>\n      <td>33.0</td>\n      <td>N</td>\n      <td>N</td>\n      <td>0.969697</td>\n    </tr>\n    <tr>\n      <th>4850353</th>\n      <td>R115HJRM6FUVIC</td>\n      <td>5.0</td>\n      <td>27.0</td>\n      <td>27.0</td>\n      <td>N</td>\n      <td>N</td>\n      <td>1.000000</td>\n    </tr>\n    <tr>\n      <th>4850356</th>\n      <td>R34TPFL5ZYSV46</td>\n      <td>3.0</td>\n      <td>21.0</td>\n      <td>29.0</td>\n      <td>N</td>\n      <td>N</td>\n      <td>0.724138</td>\n    </tr>\n  </tbody>\n</table>\n<p>61614 rows × 7 columns</p>\n</div>"
     },
     "execution_count": 9,
     "metadata": {},
     "output_type": "execute_result"
    }
   ],
   "source": [
    "non_vine_program"
   ],
   "metadata": {
    "collapsed": false,
    "pycharm": {
     "name": "#%%\n"
    }
   }
  },
  {
   "cell_type": "code",
   "execution_count": 10,
   "outputs": [
    {
     "name": "stdout",
     "output_type": "stream",
     "text": [
      "334 61614\n",
      "139 32665\n",
      "41.61676646706587 53.01554841432142\n"
     ]
    }
   ],
   "source": [
    "# Metrics for Vine and Non-Vine\n",
    "# Total number of reviews\n",
    "vine_total = vine_program['review_id'].count()\n",
    "non_vine_total = non_vine_program['review_id'].count()\n",
    "print(vine_total, non_vine_total)\n",
    "\n",
    "# Total number of 5-star reviews.\n",
    "vine_5_star_review = (vine_program['star_rating'] == 5).sum()\n",
    "non_vine_5_star_review = (non_vine_program['star_rating'] == 5).sum()\n",
    "print(vine_5_star_review, non_vine_5_star_review)\n",
    "\n",
    "# Percentage of 5-star reviews to total reviews.\n",
    "percentage_vine_5_star = vine_5_star_review/vine_total * 100\n",
    "percentage_non_vine_5_star = non_vine_5_star_review/non_vine_total * 100\n",
    "print(percentage_vine_5_star, percentage_non_vine_5_star)"
   ],
   "metadata": {
    "collapsed": false,
    "pycharm": {
     "name": "#%%\n"
    }
   }
  },
  {
   "cell_type": "code",
   "execution_count": 11,
   "outputs": [],
   "source": [
    "summary = {\n",
    "    'Total': {\n",
    "        'Vine': vine_total,\n",
    "        'Non-Vine': non_vine_total\n",
    "    },\n",
    "    \" Total 5 Stars\":{\n",
    "        'Vine': vine_5_star_review,\n",
    "        'Non-Vine': non_vine_5_star_review\n",
    "    },\n",
    "    '% 5 Star':{\n",
    "        'Vine': percentage_vine_5_star,\n",
    "        'Non-Vine': percentage_non_vine_5_star\n",
    "    }\n",
    "}\n"
   ],
   "metadata": {
    "collapsed": false,
    "pycharm": {
     "name": "#%%\n"
    }
   }
  },
  {
   "cell_type": "code",
   "execution_count": 12,
   "outputs": [
    {
     "data": {
      "text/plain": "{'Total': {'Vine': 334, 'Non-Vine': 61614},\n ' Total 5 Stars': {'Vine': 139, 'Non-Vine': 32665},\n '% 5 Star': {'Vine': 41.61676646706587, 'Non-Vine': 53.01554841432142}}"
     },
     "execution_count": 12,
     "metadata": {},
     "output_type": "execute_result"
    }
   ],
   "source": [
    "summary"
   ],
   "metadata": {
    "collapsed": false,
    "pycharm": {
     "name": "#%%\n"
    }
   }
  }
 ],
 "metadata": {
  "kernelspec": {
   "display_name": "Python 3",
   "language": "python",
   "name": "python3"
  },
  "language_info": {
   "codemirror_mode": {
    "name": "ipython",
    "version": 2
   },
   "file_extension": ".py",
   "mimetype": "text/x-python",
   "name": "python",
   "nbconvert_exporter": "python",
   "pygments_lexer": "ipython2",
   "version": "2.7.6"
  }
 },
 "nbformat": 4,
 "nbformat_minor": 0
}